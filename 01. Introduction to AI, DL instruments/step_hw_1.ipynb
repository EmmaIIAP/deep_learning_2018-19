{
 "cells": [
  {
   "cell_type": "markdown",
   "metadata": {},
   "source": [
    "<p style=\"align: center;\"><img align=center src=\"https://s8.hostingkartinok.com/uploads/images/2018/08/308b49fcfbc619d629fe4604bceb67ac.jpg\" width=500 height=450/></p>\n",
    "\n",
    "<h3 style=\"text-align: center;\"><b>\"Глубокое обучение\". Продвинутый поток</b></h3>\n",
    "\n",
    "<h2 style=\"text-align: center;\"><b>Домашнее задание 1. Основы Python</b></h2>\n",
    "\n",
    "Вам предлагается решить задачи ниже. Решения необходимо сдавать в Stepik."
   ]
  },
  {
   "cell_type": "markdown",
   "metadata": {},
   "source": [
    "### Почти двойной факториал\n",
    "Дано натуральное $N < 100$.  Выведите произведение всех нечётных натуральных чисел, не превосходящих $N$."
   ]
  },
  {
   "cell_type": "code",
   "execution_count": 3,
   "metadata": {},
   "outputs": [
    {
     "name": "stdout",
     "output_type": "stream",
     "text": [
      "4\n",
      "3\n"
     ]
    }
   ],
   "source": [
    "N = int(input())\n",
    "pr=1\n",
    "#YOUR CODE\n",
    "def N_double_fact(N):\n",
    "    pr=1\n",
    "    for i in range(N+1):\n",
    "        if(i%2==1):\n",
    "           pr=pr*i \n",
    "    return (pr)\n",
    "print(N_double_fact(N))"
   ]
  },
  {
   "cell_type": "markdown",
   "metadata": {},
   "source": [
    "### Хитрая сортировка\n",
    "\n",
    "Пусть у нас есть следующий список, в котором элементы -- tuple из строк:\n",
    "\n",
    "``items = [('one', 'two'), ('three', 'four'), ('five', 'six'), ('string', 'a')]``\n",
    "\n",
    "Мы хотим отсортировать этот список по последней букве второго элемента каждого ``tuple``, т.е. получить такой список:\n",
    "\n",
    "``sorted_items = [('string', 'a'), ('one', 'two'), ('three', 'four'), ('five', 'six')]``.\n",
    "Что нужно вставить вместо \"###\" в следующем выражении, чтобы получить сортировку?\n",
    "\n",
    "``sorted_items = sorted(items, key=lambda x: ###)``"
   ]
  },
  {
   "cell_type": "code",
   "execution_count": 5,
   "metadata": {},
   "outputs": [
    {
     "data": {
      "text/plain": [
       "[('string', 'a'), ('one', 'two'), ('three', 'four'), ('five', 'six')]"
      ]
     },
     "execution_count": 5,
     "metadata": {},
     "output_type": "execute_result"
    }
   ],
   "source": [
    "#using regular function\n",
    "def takesec(t):\n",
    "    return t[1][-1]\n",
    "items = [('one', 'two'), ('three', 'four'), ('five', 'six'), ('string', 'a')]\n",
    "sorted_items = sorted(items, key=takesec)\n",
    "sorted_items"
   ]
  },
  {
   "cell_type": "code",
   "execution_count": 6,
   "metadata": {},
   "outputs": [
    {
     "data": {
      "text/plain": [
       "[('string', 'a'), ('one', 'two'), ('three', 'four'), ('five', 'six')]"
      ]
     },
     "execution_count": 6,
     "metadata": {},
     "output_type": "execute_result"
    }
   ],
   "source": [
    "#using lambda function\n",
    "items = [('one', 'two'), ('three', 'four'), ('five', 'six'), ('string', 'a')]\n",
    "sorted_items = sorted(items, key=lambda x:x[1][-1])\n",
    "sorted_items"
   ]
  },
  {
   "cell_type": "markdown",
   "metadata": {},
   "source": [
    "### Слайсы\n",
    "\n",
    "Дан код:\n",
    "\n",
    "``x = [1, 2, 3, 4, 5]``\n",
    "\n",
    "``x[###] = [-1, -3, -5]``\n",
    "\n",
    "``print(x)``\n",
    "\n",
    "Напишите слайс вместо ###, чтобы на экран вывелось:\n",
    "\n",
    "``[-5, 2, -3, 4, -1]``"
   ]
  },
  {
   "cell_type": "code",
   "execution_count": 7,
   "metadata": {},
   "outputs": [
    {
     "name": "stdout",
     "output_type": "stream",
     "text": [
      "[-5, 2, -3, 4, -1]\n"
     ]
    }
   ],
   "source": [
    "x = [1, 2, 3, 4, 5]\n",
    "x[::-2] = [-1, -3, -5]\n",
    "print(x)\n",
    "\n",
    "#[-5, 2, -3, 4, -1]"
   ]
  },
  {
   "cell_type": "markdown",
   "metadata": {},
   "source": [
    "### Создание массивов\n",
    "Дан массив $A[0,\\ldots,N-1]$. Напишите функцию, принимающую один обязательный аргумент A и один опциональный аргумент ``erase``, по умолчанию равный 1. Возвратите массив $B[0,\\ldots, N-1]$, где $B_i = A_0 + \\ldots + A_{i}$ --- массив частичных сумм массива $A$, предварительно удалив из массива $B$ все элементы, равные erase. Постарайтесь сделать это за линейное время без использования Numpy."
   ]
  },
  {
   "cell_type": "code",
   "execution_count": 8,
   "metadata": {},
   "outputs": [
    {
     "ename": "SyntaxError",
     "evalue": "invalid syntax (<ipython-input-8-3dfcd870d250>, line 2)",
     "output_type": "error",
     "traceback": [
      "\u001b[0;36m  File \u001b[0;32m\"<ipython-input-8-3dfcd870d250>\"\u001b[0;36m, line \u001b[0;32m2\u001b[0m\n\u001b[0;31m    def cumsum_and_erase(<YOUR CODE>):\u001b[0m\n\u001b[0m                         ^\u001b[0m\n\u001b[0;31mSyntaxError\u001b[0m\u001b[0;31m:\u001b[0m invalid syntax\n"
     ]
    }
   ],
   "source": [
    "#try again\n",
    "def cumsum_and_erase(<YOUR CODE>):\n",
    "    #YOUR CODE\n",
    "    \n",
    "    B = #YOUR CODE\n",
    "    return B\n",
    "\n",
    "A = [5, 1, 4, 5, 14]\n",
    "B = cumsum_and_erase(A, erase=10)\n",
    "\n",
    "assert B == [5, 6, 15, 29], \"Something is wrong! Please try again\""
   ]
  },
  {
   "cell_type": "code",
   "execution_count": 9,
   "metadata": {},
   "outputs": [
    {
     "ename": "UnboundLocalError",
     "evalue": "local variable 'pr' referenced before assignment",
     "output_type": "error",
     "traceback": [
      "\u001b[0;31m---------------------------------------------------------------------------\u001b[0m",
      "\u001b[0;31mUnboundLocalError\u001b[0m                         Traceback (most recent call last)",
      "\u001b[0;32m<ipython-input-9-59b13482f75f>\u001b[0m in \u001b[0;36m<module>\u001b[0;34m()\u001b[0m\n\u001b[1;32m      8\u001b[0m            \u001b[0mpr\u001b[0m\u001b[0;34m=\u001b[0m\u001b[0mpr\u001b[0m\u001b[0;34m*\u001b[0m\u001b[0mi\u001b[0m\u001b[0;34m\u001b[0m\u001b[0m\n\u001b[1;32m      9\u001b[0m     \u001b[0mprint\u001b[0m\u001b[0;34m(\u001b[0m\u001b[0mpr\u001b[0m\u001b[0;34m)\u001b[0m\u001b[0;34m\u001b[0m\u001b[0m\n\u001b[0;32m---> 10\u001b[0;31m \u001b[0mprint\u001b[0m\u001b[0;34m(\u001b[0m\u001b[0mN_double_fact\u001b[0m\u001b[0;34m(\u001b[0m\u001b[0;36m25\u001b[0m\u001b[0;34m)\u001b[0m\u001b[0;34m)\u001b[0m\u001b[0;34m\u001b[0m\u001b[0m\n\u001b[0m",
      "\u001b[0;32m<ipython-input-9-59b13482f75f>\u001b[0m in \u001b[0;36mN_double_fact\u001b[0;34m(N)\u001b[0m\n\u001b[1;32m      6\u001b[0m     \u001b[0;32mfor\u001b[0m \u001b[0mi\u001b[0m \u001b[0;32min\u001b[0m \u001b[0mrange\u001b[0m\u001b[0;34m(\u001b[0m\u001b[0mN\u001b[0m\u001b[0;34m+\u001b[0m\u001b[0;36m1\u001b[0m\u001b[0;34m)\u001b[0m\u001b[0;34m:\u001b[0m\u001b[0;34m\u001b[0m\u001b[0m\n\u001b[1;32m      7\u001b[0m         \u001b[0;32mif\u001b[0m\u001b[0;34m(\u001b[0m\u001b[0mi\u001b[0m\u001b[0;34m%\u001b[0m\u001b[0;36m2\u001b[0m\u001b[0;34m==\u001b[0m\u001b[0;36m1\u001b[0m\u001b[0;34m)\u001b[0m\u001b[0;34m:\u001b[0m\u001b[0;34m\u001b[0m\u001b[0m\n\u001b[0;32m----> 8\u001b[0;31m            \u001b[0mpr\u001b[0m\u001b[0;34m=\u001b[0m\u001b[0mpr\u001b[0m\u001b[0;34m*\u001b[0m\u001b[0mi\u001b[0m\u001b[0;34m\u001b[0m\u001b[0m\n\u001b[0m\u001b[1;32m      9\u001b[0m     \u001b[0mprint\u001b[0m\u001b[0;34m(\u001b[0m\u001b[0mpr\u001b[0m\u001b[0;34m)\u001b[0m\u001b[0;34m\u001b[0m\u001b[0m\n\u001b[1;32m     10\u001b[0m \u001b[0mprint\u001b[0m\u001b[0;34m(\u001b[0m\u001b[0mN_double_fact\u001b[0m\u001b[0;34m(\u001b[0m\u001b[0;36m25\u001b[0m\u001b[0;34m)\u001b[0m\u001b[0;34m)\u001b[0m\u001b[0;34m\u001b[0m\u001b[0m\n",
      "\u001b[0;31mUnboundLocalError\u001b[0m: local variable 'pr' referenced before assignment"
     ]
    }
   ],
   "source": [
    "N = 5\n",
    "\n",
    "#YOUR CODE\n",
    "pr=1\n",
    "def N_double_fact(N):\n",
    "    for i in range(N+1):\n",
    "        if(i%2==1):\n",
    "           pr=pr*i \n",
    "    print(pr)\n",
    "print(N_double_fact(25))"
   ]
  },
  {
   "cell_type": "markdown",
   "metadata": {},
   "source": [
    "### Обработка текста\n",
    "Дан список текстов, слова в которых разделены пробелами (можно считать, что знаков препинания нет). Часть слов является \"мусорными\": в них присутствуют цифры и спецсимволы. Отфильтруйте такие слова из каждого текста. Используйте функции ``str.split``, ``str.isalpha``, ``str.join``, а также [генератор filter](http://pythonicway.com/python-functinal-programming)."
   ]
  },
  {
   "cell_type": "code",
   "execution_count": 10,
   "metadata": {},
   "outputs": [
    {
     "name": "stdout",
     "output_type": "stream",
     "text": [
      "Задание успешно выполнено!\n"
     ]
    }
   ],
   "source": [
    "from string import punctuation\n",
    "puncPlusdigit=list(punctuation)+list(map(str,list(range(0,10))))\n",
    "def process(sentences):\n",
    "    l=[]\n",
    "    for j in range(len(sentences)):\n",
    "        x=sentences[j].split()\n",
    "        for i in range(len(puncPlusdigit)):\n",
    "            x=list(filter(lambda m:m.find(puncPlusdigit[i])==-1,x))\n",
    "        l.append((' '.join(x)))\n",
    "    return l\n",
    "texts = [\n",
    "    \"Space is the boundless 3-dimensional 42 extent in which objects \" \\\n",
    "    \"and events have relative 523 position and direction. Physical space \" \\\n",
    "    \"is often conceived in three linear dimensions, although modern \" \\\n",
    "    \"physicists usually consider 42 512515 it, with time, to be part of a boundless \" \\\n",
    "    \"four-dimensional continuum22 known as spacetime. The concept of space is \" \\\n",
    "    \"considered to b42e of fun*damental importance to an understanding of \" \\\n",
    "    \"the physical universe. However,{ disagreement continues between philosophers \" \\\n",
    "    \"over whether it is itself an entity, a relat[[[ionship between entities, \" \\\n",
    "    \"or part of a conceptual framework. \",\n",
    "    \"Debates concern,,ing the nature, essence and the mode of existence of \" \\\n",
    "    \"space date back to antiq{{{uity; namely, to treatises like the Timaeus \" \\\n",
    "    \"of Plato, or Socrates in his reflections on what the Greeks called \" \\\n",
    "    \"kh?ra (i.e. \\fspace'), or in the Physics of Aristotle (Book IV, Delta) \" \\\n",
    "    \"in the definition of top53253os (i.e. place), or in the later \" \\\n",
    "    \"'geometrical conception of place' as 'space qua extension' in \" \\\n",
    "    \"the Discourse on Place (Qawl fi al-Makan) of the 11th-century \" \\\n",
    "    \"Arab polymath Alhazen.[2] Many of these classical philosophical \" \\\n",
    "    \"questions were discussed in th<>e Renaissance and then reformulated \" \\\n",
    "    \"in the 17th century, particularl**y during the early development of \" \\\n",
    "    \"classical mechanics. In Isaac Newton's view, space was absolute in \" \\\n",
    "    \"the sense that it existed permanently and independently of whether there was any matter in the space.\"\n",
    "]\n",
    "\n",
    "result = ['Space is the boundless extent in which objects and events have relative position and Physical space is often conceived in three linear although modern physicists usually consider with to be part of a boundless known as The concept of space is considered to of importance to an understanding of the physical disagreement continues between philosophers over whether it is itself an a between or part of a conceptual', 'Debates the essence and the mode of existence of space date back to to treatises like the Timaeus of or Socrates in his reflections on what the Greeks called or in the Physics of Aristotle in the definition of or in the later conception of as qua in the Discourse on Place fi of the Arab polymath Many of these classical philosophical questions were discussed in Renaissance and then reformulated in the during the early development of classical In Isaac space was absolute in the sense that it existed permanently and independently of whether there was any matter in the']\n",
    "\n",
    "def Test(texts, result):\n",
    "    if (process(texts) == result):\n",
    "        print(\"Задание успешно выполнено!\")\n",
    "    else:\n",
    "        print(\"Ошибка в функции\")\n",
    "\n",
    "Test(texts, result)"
   ]
  },
  {
   "cell_type": "markdown",
   "metadata": {},
   "source": [
    "### Собственный класс \"Нейрон\"\n",
    "Реализуйте класс \"Нейрон\", у которого будет несколько методов: \n",
    "\n",
    "* ``__init__``. Принимает на вход массив весов нейрона --- $w = (w_1, \\ldots, w_n)$, а также функцию активации $f$ (по умолчанию $f(x) = x$). Сохраняет веса и функцию внутри класса.\n",
    "\n",
    "* ``forward``. Принимает на вход массив $x = (x_1, \\ldots, x_N)$ --- входы нейрона. Возвращает $f(w_1x_1 + \\ldots + w_nx_n)$.\n",
    "\n",
    "* ``backlog``. Возвращает последний массив $x$, который подавался функции ``forward`` на вход. "
   ]
  },
  {
   "cell_type": "code",
   "execution_count": 11,
   "metadata": {},
   "outputs": [
    {
     "name": "stdout",
     "output_type": "stream",
     "text": [
      "Задание успешно выполнено!\n"
     ]
    }
   ],
   "source": [
    "class Neuron:\n",
    "\n",
    "    def __init__(self, w, f = lambda x: x, x=[]):\n",
    "        self.w=w\n",
    "        self.f=f\n",
    "        self.x=x\n",
    "        \n",
    "    def forward(self, x):\n",
    "        self.x=x\n",
    "        s=0\n",
    "        for i in range(len(self.w)):\n",
    "            s+=self.x[i]*self.w[i]\n",
    "        return (self.f(s))\n",
    "\n",
    "    def backlog(self):\n",
    "        return self.x\n",
    "    \n",
    "    def pr(self):\n",
    "        print(self.f(24))\n",
    "        \n",
    "def Test():\n",
    "    test_neuron = Neuron([2, 3, 4, 5, 6], lambda x: x*x)\n",
    "    if (test_neuron.forward([1, 2, 3, 4, 5]) == 4900 and test_neuron.backlog() == [1, 2, 3, 4, 5]):\n",
    "        print(\"Задание успешно выполнено!\")\n",
    "    else:\n",
    "        print(\"Ошибка в решении!\")\n",
    "    \n",
    "Test()"
   ]
  },
  {
   "cell_type": "code",
   "execution_count": null,
   "metadata": {},
   "outputs": [],
   "source": []
  }
 ],
 "metadata": {
  "kernelspec": {
   "display_name": "Python 3",
   "language": "python",
   "name": "python3"
  },
  "language_info": {
   "codemirror_mode": {
    "name": "ipython",
    "version": 3
   },
   "file_extension": ".py",
   "mimetype": "text/x-python",
   "name": "python",
   "nbconvert_exporter": "python",
   "pygments_lexer": "ipython3",
   "version": "3.6.4"
  }
 },
 "nbformat": 4,
 "nbformat_minor": 2
}
